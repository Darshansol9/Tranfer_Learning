{
  "nbformat": 4,
  "nbformat_minor": 0,
  "metadata": {
    "colab": {
      "name": "hw5.ipynb",
      "provenance": [],
      "collapsed_sections": []
    },
    "kernelspec": {
      "name": "python3",
      "display_name": "Python 3"
    }
  },
  "cells": [
    {
      "cell_type": "markdown",
      "metadata": {
        "id": "tJ3c7b6cA627",
        "colab_type": "text"
      },
      "source": [
        "**I have used Tensorflow with Resnet version 50.**\n",
        "**I have consent with the professor and he agreed to it.**\n",
        "Below code is the implementation of Transfer learning "
      ]
    },
    {
      "cell_type": "code",
      "metadata": {
        "id": "v_Hq3XAXVQWG",
        "colab_type": "code",
        "colab": {}
      },
      "source": [
        "import  numpy  as  np\n",
        "from keras.layers import *\n",
        "from keras.preprocessing import image\n",
        "from keras.applications.vgg16 import preprocess_input\n",
        "from keras.layers import Dropout, Flatten, Dense\n",
        "from keras.models import Model, Sequential\n",
        "from keras import backend as K\n",
        "import matplotlib.pyplot as plt\n",
        "from keras.applications import ResNet50\n"
      ],
      "execution_count": 0,
      "outputs": []
    },
    {
      "cell_type": "code",
      "metadata": {
        "id": "8v-q4gyYVjqq",
        "colab_type": "code",
        "colab": {}
      },
      "source": [
        "#This is too download the data from the google drive\n",
        "\n",
        "!pip install -U -q PyDrive\n",
        "from pydrive.auth import GoogleAuth\n",
        "from pydrive.drive import GoogleDrive\n",
        "from google.colab import auth\n",
        "from oauth2client.client import GoogleCredentials\n",
        "\n",
        "\n",
        "# Authenticate and create the PyDrive client.\n",
        "auth.authenticate_user()\n",
        "gauth = GoogleAuth()\n",
        "gauth.credentials = GoogleCredentials.get_application_default()\n",
        "drive = GoogleDrive(gauth)\n",
        "\n",
        "link ='https://drive.google.com/open?id=1tmtvyF1TDPyWW3ocsFxc71pdi1rUqc48'\n",
        "fluff, id = link.split('=')\n",
        "downloaded = drive.CreateFile({'id':id})  \n",
        "downloaded.GetContentFile('data.zip') "
      ],
      "execution_count": 0,
      "outputs": []
    },
    {
      "cell_type": "code",
      "metadata": {
        "id": "IwCJxMym8Cj0",
        "colab_type": "code",
        "colab": {}
      },
      "source": [
        "#Unzipping the contents \n",
        "!unzip data.zip"
      ],
      "execution_count": 0,
      "outputs": []
    },
    {
      "cell_type": "code",
      "metadata": {
        "id": "eVxa--kSWcz7",
        "colab_type": "code",
        "outputId": "aa66059b-0c55-40e0-a10b-73de067a22a3",
        "colab": {
          "base_uri": "https://localhost:8080/",
          "height": 34
        }
      },
      "source": [
        "import cv2\n",
        "import os\n",
        "#Reading images \n",
        "#Resizing the images\n",
        "#Adding to the image list and mapping the output labels into the labels list\n",
        "#Dog = 1 and Cat = 0\n",
        "\n",
        "images = []\n",
        "labels = []\n",
        "categories = ['dog','cat']\n",
        "for category in categories:\n",
        "  path = '/content/data/train/'+category\n",
        "  for img in os.listdir(path):\n",
        "    path_to_img = path+'/'+img\n",
        "    read_img = cv2.imread(path_to_img)\n",
        "    img_data = cv2.resize(read_img, (60,60))\n",
        "    images.append(img_data)\n",
        "\n",
        "    if(category=='dog'):\n",
        "      labels.append(1)\n",
        "    else:\n",
        "      labels.append(0)\n",
        "\n",
        "print('Completed')"
      ],
      "execution_count": 27,
      "outputs": [
        {
          "output_type": "stream",
          "text": [
            "Completed\n"
          ],
          "name": "stdout"
        }
      ]
    },
    {
      "cell_type": "code",
      "metadata": {
        "id": "pPMURmEybXU-",
        "colab_type": "code",
        "outputId": "305eb95a-b097-4a07-8ed9-e03aa330458b",
        "colab": {
          "base_uri": "https://localhost:8080/",
          "height": 34
        }
      },
      "source": [
        "#Same process followed for test images too.\n",
        "#Here labels are useful for validation of predicted labels and actual labels\n",
        "\n",
        "test_images = []\n",
        "test_labels = []\n",
        "categories = ['dog','cat']\n",
        "for category in categories:\n",
        "  path = '/content/data/val/'+category\n",
        "  for img in os.listdir(path):\n",
        "    path_to_img = path+'/'+img\n",
        "    read_img = cv2.imread(path_to_img)\n",
        "    img_data = cv2.resize(read_img, (60,60))\n",
        "    test_images.append(img_data)\n",
        "\n",
        "    if(category=='dog'):\n",
        "      test_labels.append(1)\n",
        "    else:\n",
        "      test_labels.append(0)\n",
        "\n",
        "print('Completed')"
      ],
      "execution_count": 28,
      "outputs": [
        {
          "output_type": "stream",
          "text": [
            "Completed\n"
          ],
          "name": "stdout"
        }
      ]
    },
    {
      "cell_type": "code",
      "metadata": {
        "id": "H4FeSxy-WoQT",
        "colab_type": "code",
        "colab": {}
      },
      "source": [
        "#Converting the image and labels list into numpy array\n",
        "\n",
        "x_train = np.array(images)\n",
        "y_train = np.array(labels)\n",
        "\n",
        "x_test = np.array(test_images)\n",
        "y_test = np.array(test_labels)\n"
      ],
      "execution_count": 0,
      "outputs": []
    },
    {
      "cell_type": "code",
      "metadata": {
        "id": "1VjuS8jBezOz",
        "colab_type": "code",
        "colab": {}
      },
      "source": [
        "#Preprocess the input images for both train and test\n",
        "\n",
        "x_train = preprocess_input(x_train)\n",
        "x_test = preprocess_input(x_test)"
      ],
      "execution_count": 0,
      "outputs": []
    },
    {
      "cell_type": "code",
      "metadata": {
        "id": "y3rTomLqd8xB",
        "colab_type": "code",
        "outputId": "bbd3bb8e-70a6-40b7-dcdc-75b7f22e3c6c",
        "colab": {
          "base_uri": "https://localhost:8080/",
          "height": 50
        }
      },
      "source": [
        "#Loading the ResNet50 model with last layer as False which means we will be defining the Fully connected layer\n",
        "#model1.predict convert the image into feature vectors\n",
        "\n",
        "\n",
        "model1 = ResNet50(weights='imagenet',include_top=False)\n",
        "x_train = model1.predict(x_train)\n",
        "x_test = model1.predict(x_test)"
      ],
      "execution_count": 31,
      "outputs": [
        {
          "output_type": "stream",
          "text": [
            "/usr/local/lib/python3.6/dist-packages/keras_applications/resnet50.py:265: UserWarning: The output shape of `ResNet50(include_top=False)` has been changed since Keras 2.2.0.\n",
            "  warnings.warn('The output shape of `ResNet50(include_top=False)` '\n"
          ],
          "name": "stderr"
        }
      ]
    },
    {
      "cell_type": "code",
      "metadata": {
        "id": "JDI1ljYUZ7q2",
        "colab_type": "code",
        "outputId": "e05d5877-4b95-46b7-9fec-9bc90c2c5425",
        "colab": {
          "base_uri": "https://localhost:8080/",
          "height": 706
        }
      },
      "source": [
        "#Simple FC layer is modeled\n",
        "#128 hidden neurons with relu activation - Layer1\n",
        "#128 hidden neurous with relu activation - Layer2\n",
        "#No epochs set to 20\n",
        "#Softmax with 1 output neuron - if o/p is 1 - Dog otherwise Cat\n",
        "#loss used is Binary cross-entropy as only 2 classes are there and metrics used is accuracy\n",
        "#Passed the validation set as x_test and y_test as computed earlier\n",
        "\n",
        "epochs = 20\n",
        "model = Sequential()\n",
        "model.add(Flatten(input_shape = x_train.shape[1:]))\n",
        "model.add(Dense(128,activation='relu'))\n",
        "model.add(Dropout(0.5))\n",
        "model.add(Dense(128,activation='relu'))\n",
        "model.add(Dense(1,activation='sigmoid'))\n",
        "\n",
        "model.compile(loss='binary_crossentropy',optimizer='adam',metrics=['accuracy'])\n",
        "history = model.fit(x_train,y_train,epochs=epochs,shuffle=True,validation_data = (x_test,y_test))"
      ],
      "execution_count": 32,
      "outputs": [
        {
          "output_type": "stream",
          "text": [
            "Train on 60 samples, validate on 24 samples\n",
            "Epoch 1/20\n",
            "60/60 [==============================] - 0s 3ms/step - loss: 5.7847 - accuracy: 0.5167 - val_loss: 2.2581 - val_accuracy: 0.5000\n",
            "Epoch 2/20\n",
            "60/60 [==============================] - 0s 710us/step - loss: 1.2256 - accuracy: 0.7333 - val_loss: 1.0928 - val_accuracy: 0.7500\n",
            "Epoch 3/20\n",
            "60/60 [==============================] - 0s 711us/step - loss: 2.1124 - accuracy: 0.7667 - val_loss: 0.3590 - val_accuracy: 0.9167\n",
            "Epoch 4/20\n",
            "60/60 [==============================] - 0s 680us/step - loss: 0.6714 - accuracy: 0.8167 - val_loss: 1.4764 - val_accuracy: 0.6667\n",
            "Epoch 5/20\n",
            "60/60 [==============================] - 0s 698us/step - loss: 0.5578 - accuracy: 0.8833 - val_loss: 1.3706 - val_accuracy: 0.6667\n",
            "Epoch 6/20\n",
            "60/60 [==============================] - 0s 766us/step - loss: 0.2548 - accuracy: 0.9167 - val_loss: 0.5720 - val_accuracy: 0.8333\n",
            "Epoch 7/20\n",
            "60/60 [==============================] - 0s 773us/step - loss: 0.0309 - accuracy: 0.9833 - val_loss: 0.3689 - val_accuracy: 0.8750\n",
            "Epoch 8/20\n",
            "60/60 [==============================] - 0s 686us/step - loss: 0.2601 - accuracy: 0.9500 - val_loss: 0.3011 - val_accuracy: 0.9167\n",
            "Epoch 9/20\n",
            "60/60 [==============================] - 0s 640us/step - loss: 0.8058 - accuracy: 0.8667 - val_loss: 0.3309 - val_accuracy: 0.9167\n",
            "Epoch 10/20\n",
            "60/60 [==============================] - 0s 714us/step - loss: 0.4035 - accuracy: 0.9333 - val_loss: 0.4191 - val_accuracy: 0.8750\n",
            "Epoch 11/20\n",
            "60/60 [==============================] - 0s 711us/step - loss: 0.0396 - accuracy: 0.9833 - val_loss: 0.5365 - val_accuracy: 0.8750\n",
            "Epoch 12/20\n",
            "60/60 [==============================] - 0s 751us/step - loss: 0.0365 - accuracy: 0.9833 - val_loss: 0.6508 - val_accuracy: 0.8750\n",
            "Epoch 13/20\n",
            "60/60 [==============================] - 0s 723us/step - loss: 0.0273 - accuracy: 0.9833 - val_loss: 0.6913 - val_accuracy: 0.8750\n",
            "Epoch 14/20\n",
            "60/60 [==============================] - 0s 683us/step - loss: 0.1460 - accuracy: 0.9833 - val_loss: 0.7709 - val_accuracy: 0.8750\n",
            "Epoch 15/20\n",
            "60/60 [==============================] - 0s 709us/step - loss: 0.0065 - accuracy: 1.0000 - val_loss: 0.8175 - val_accuracy: 0.8333\n",
            "Epoch 16/20\n",
            "60/60 [==============================] - 0s 668us/step - loss: 0.0164 - accuracy: 1.0000 - val_loss: 0.8381 - val_accuracy: 0.8333\n",
            "Epoch 17/20\n",
            "60/60 [==============================] - 0s 706us/step - loss: 0.0139 - accuracy: 1.0000 - val_loss: 0.8428 - val_accuracy: 0.8333\n",
            "Epoch 18/20\n",
            "60/60 [==============================] - 0s 720us/step - loss: 0.0084 - accuracy: 1.0000 - val_loss: 0.8366 - val_accuracy: 0.8333\n",
            "Epoch 19/20\n",
            "60/60 [==============================] - 0s 1ms/step - loss: 0.0316 - accuracy: 0.9667 - val_loss: 0.8203 - val_accuracy: 0.8333\n",
            "Epoch 20/20\n",
            "60/60 [==============================] - 0s 756us/step - loss: 0.0501 - accuracy: 0.9833 - val_loss: 0.7725 - val_accuracy: 0.8333\n"
          ],
          "name": "stdout"
        }
      ]
    },
    {
      "cell_type": "code",
      "metadata": {
        "id": "slHkmQEan9fW",
        "colab_type": "code",
        "outputId": "0dac97ab-c202-486d-f4c0-43710541b42f",
        "colab": {
          "base_uri": "https://localhost:8080/",
          "height": 655
        }
      },
      "source": [
        "#History keeps track of loss and accuracy from train and test\n",
        "#Extracted the value from those and plotted the result for loss and accuracy as shown below\n",
        "\n",
        "history.history.keys()\n",
        "train_loss = history.history['loss']\n",
        "test_loss = history.history['val_loss']\n",
        "\n",
        "plt.figure(figsize=(5,5))\n",
        "plt.plot(range(epochs),train_loss,label='train_loss')\n",
        "plt.plot(range(epochs),test_loss,label='test_loss')\n",
        "plt.xlabel('Epochs')\n",
        "plt.ylabel('Losses')\n",
        "plt.legend()\n",
        "\n",
        "\n",
        "fig,ax = plt.subplots(figsize=(5,5))\n",
        "ax.plot(range(epochs),history.history['val_accuracy'],label='val_acc')\n",
        "ax.plot(range(epochs),history.history['accuracy'],label='train_acc')\n",
        "ax.legend()\n"
      ],
      "execution_count": 33,
      "outputs": [
        {
          "output_type": "execute_result",
          "data": {
            "text/plain": [
              "<matplotlib.legend.Legend at 0x7faa2909b208>"
            ]
          },
          "metadata": {
            "tags": []
          },
          "execution_count": 33
        },
        {
          "output_type": "display_data",
          "data": {
            "image/png": "[encoded data removed]",
            "text/plain": [
              "<Figure size 360x360 with 1 Axes>"
            ]
          },
          "metadata": {
            "tags": [],
            "needs_background": "light"
          }
        },
        {
          "output_type": "display_data",
          "data": {
            "image/png": "[encoded data removed]",
            "text/plain": [
              "<Figure size 360x360 with 1 Axes>"
            ]
          },
          "metadata": {
            "tags": [],
            "needs_background": "light"
          }
        }
      ]
    },
    {
      "cell_type": "code",
      "metadata": {
        "id": "BrI8fTtckBQ3",
        "colab_type": "code",
        "outputId": "bb33823a-2cd8-4ded-cd22-7ceb1f1e21f9",
        "colab": {
          "base_uri": "https://localhost:8080/",
          "height": 50
        }
      },
      "source": [
        "#Final Test accuracy is given by evaluate function \n",
        "\n",
        "score = model.evaluate(x_test,y_test)\n",
        "print('Test accuracy is ',score[1])"
      ],
      "execution_count": 34,
      "outputs": [
        {
          "output_type": "stream",
          "text": [
            "\r24/24 [==============================] - 0s 386us/step\n",
            "Test accuracy is  0.8333333134651184\n"
          ],
          "name": "stdout"
        }
      ]
    }
  ]
}